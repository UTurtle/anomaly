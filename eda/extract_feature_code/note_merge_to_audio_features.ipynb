{
 "cells": [
  {
   "cell_type": "markdown",
   "metadata": {},
   "source": [
    "### 현재 handwrite note가 audio_features랑 분리되어 있음.\n",
    "\n",
    "- 이를 안전하게 병합할 수 있지 않을까?\n",
    "- `../../datasets/dev/handwrite_notes.csv` 에 있는 fleid를 pair가 아닌 이를 먼저 개별 데이터로 전처리 해야함.\n",
    "- 현재 attributes는 `anomaly_path,normal_path,anomaly_note,normal_note,common_note` 이렇게 구성되어 있다.\n",
    "  - `common_note`에 있는 것은 공통점으로 `anomaly_note`와 `normal_note`에 둘다 들어가야한다. \n",
    "  - 보통 \\n을 기준으로 글을 적으므로 병합할때 \\n를 먼저 넣고 병합을 해야한다.\n",
    "- 그렇기 이를 `path,note` 이렇게 분리해야한다.\n",
    "- 병합된 파일은 `../../datasets/dev/handwrite_notes_single.csv` 로 한다.\n",
    "- 먼저 이렇게 single csv를 만든뒤 `audio_features.json`에 바로 넣지 말고 `audio_features_merged.json`으로 파일을 복사하여 여기에 병합한다."
   ]
  },
  {
   "cell_type": "code",
   "execution_count": 7,
   "metadata": {},
   "outputs": [
    {
     "name": "stdout",
     "output_type": "stream",
     "text": [
      "'../../datasets/dev/handwrite_notes_single.csv' 파일이 생성되었습니다.\n"
     ]
    }
   ],
   "source": [
    "import pandas as pd\n",
    "import os\n",
    "\n",
    "def preprocess_handwrite_notes(input_csv_path, output_csv_path):\n",
    "    # CSV 파일 읽기\n",
    "    df = pd.read_csv(input_csv_path)\n",
    "    \n",
    "    # 결과를 저장할 리스트 초기화\n",
    "    records = []\n",
    "    \n",
    "    # 각 행에 대해 처리\n",
    "    for idx, row in df.iterrows():\n",
    "        # 공통 노트 처리\n",
    "        common_note = row['common_note'] if not pd.isnull(row['common_note']) else ''\n",
    "        common_note = common_note.strip() if common_note else ''\n",
    "        \n",
    "        # Anomaly 데이터 처리\n",
    "        anomaly_path = row['anomaly_path']\n",
    "        anomaly_note = row['anomaly_note'] if not pd.isnull(row['anomaly_note']) else ''\n",
    "        anomaly_note = anomaly_note.strip() if anomaly_note else ''\n",
    "        combined_anomaly_note = '\\n'.join(filter(None, [common_note, anomaly_note]))\n",
    "        records.append({'path': anomaly_path, 'note': combined_anomaly_note})\n",
    "        \n",
    "        # Normal 데이터 처리\n",
    "        normal_path = row['normal_path']\n",
    "        normal_note = row['normal_note'] if not pd.isnull(row['normal_note']) else ''\n",
    "        normal_note = normal_note.strip() if normal_note else ''\n",
    "        combined_normal_note = '\\n'.join(filter(None, [common_note, normal_note]))\n",
    "        records.append({'path': normal_path, 'note': combined_normal_note})\n",
    "    \n",
    "    # 결과를 데이터프레임으로 변환\n",
    "    result_df = pd.DataFrame(records)\n",
    "    \n",
    "    # CSV로 저장\n",
    "    result_df.to_csv(output_csv_path, index=False)\n",
    "\n",
    "if __name__ == \"__main__\":\n",
    "    input_csv = '../../datasets/dev/handwrite_notes.csv'\n",
    "    output_csv = '../../datasets/dev/handwrite_notes_single.csv'\n",
    "    preprocess_handwrite_notes(input_csv, output_csv)\n",
    "    print(f\"'{output_csv}' 파일이 생성되었습니다.\")\n"
   ]
  },
  {
   "cell_type": "markdown",
   "metadata": {},
   "source": [
    "# 병합하기 위해선 밑의 코드를 실행하면 된다!"
   ]
  },
  {
   "cell_type": "code",
   "execution_count": null,
   "metadata": {},
   "outputs": [],
   "source": [
    "import json\n",
    "import pandas as pd\n",
    "import os\n",
    "\n",
    "def merge_notes_into_audio_features(audio_features_json_path, notes_csv_path, output_json_path, datasets_dir):\n",
    "    \"\"\"\n",
    "    Merge handwrite notes into audio features JSON.\n",
    "\n",
    "    Parameters:\n",
    "        audio_features_json_path (str): Path to the audio_features.json file.\n",
    "        notes_csv_path (str): Path to the processed handwrite_notes_single.csv file.\n",
    "        output_json_path (str): Path to save the merged JSON file.\n",
    "        datasets_dir (str): Base directory of the datasets.\n",
    "    \"\"\"\n",
    "    # audio_features.json 로드\n",
    "    with open(audio_features_json_path, 'r', encoding='utf-8') as f:\n",
    "        audio_features_data = json.load(f)\n",
    "    \n",
    "    # handwrite_notes_single.csv 로드\n",
    "    notes_df = pd.read_csv(notes_csv_path)\n",
    "    \n",
    "    # 'path'와 'note'를 딕셔너리로 변환 (전체 경로 기준)\n",
    "    # 'note' 필드가 NaN인 경우 빈 문자열로 대체\n",
    "    notes_df['note'] = notes_df['note'].fillna('')\n",
    "    notes_dict = dict(zip(notes_df['path'], notes_df['note']))\n",
    "    \n",
    "    # 오디오 특징 데이터에 노트 병합\n",
    "    for entry in audio_features_data['audio_features']:\n",
    "        file_path = entry['file_path']\n",
    "        \n",
    "        # `file_path`를 `datasets_dir` 기준으로 전체 경로로 변환\n",
    "        # 예: \"../unziped/dev/ToyCar/test/file.wav\" -> \"../../../datasets/dev/ToyCar/test/file.wav\"\n",
    "        if file_path.startswith('../unziped/dev/'):\n",
    "            relative_path = file_path.replace('../unziped/dev/', '')\n",
    "            normalized_path = os.path.join('../../../datasets/dev', relative_path)\n",
    "        else:\n",
    "            # 다른 경우, 필요한 경우 추가 처리\n",
    "            normalized_path = file_path  # 기본값으로 설정\n",
    "        \n",
    "        # 'note' 필드가 문자열인지 확인하고, 아니면 빈 문자열로 설정\n",
    "        handwritten_note = notes_dict.get(normalized_path, '')\n",
    "        if not isinstance(handwritten_note, str):\n",
    "            handwritten_note = ''\n",
    "        else:\n",
    "            handwritten_note = handwritten_note.strip()\n",
    "        \n",
    "        # 'note' 필드 업데이트\n",
    "        if not handwritten_note:\n",
    "            entry['note'] = ''\n",
    "        else:\n",
    "            entry['note'] = handwritten_note\n",
    "    \n",
    "    # 병합된 데이터 저장 (ensure_ascii=False로 설정하여 한글이 유니코드로 저장되지 않도록 함)\n",
    "    with open(output_json_path, 'w', encoding='utf-8') as f:\n",
    "        json.dump(audio_features_data, f, indent=4, ensure_ascii=False)\n",
    "    \n",
    "    print(f\"병합된 JSON 파일이 '{output_json_path}' 경로에 저장되었습니다.\")\n",
    "\n",
    "if __name__ == \"__main__\":\n",
    "    audio_features_json = 'audio_features.json'\n",
    "    notes_csv = '../../datasets/dev/handwrite_notes_single.csv'\n",
    "    output_json = 'audio_features_merged.json'\n",
    "    datasets_dir = \"../../../datasets/dev\"  # 실제 데이터셋 경로로 수정하세요\n",
    "    merge_notes_into_audio_features(audio_features_json, notes_csv, output_json, datasets_dir)\n"
   ]
  }
 ],
 "metadata": {
  "kernelspec": {
   "display_name": "anomaly",
   "language": "python",
   "name": "python3"
  },
  "language_info": {
   "codemirror_mode": {
    "name": "ipython",
    "version": 3
   },
   "file_extension": ".py",
   "mimetype": "text/x-python",
   "name": "python",
   "nbconvert_exporter": "python",
   "pygments_lexer": "ipython3",
   "version": "3.9.20"
  }
 },
 "nbformat": 4,
 "nbformat_minor": 2
}
