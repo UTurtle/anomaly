{
 "cells": [
  {
   "cell_type": "markdown",
   "metadata": {},
   "source": [
    "### test데이터에서만 class단위로 json에서 data를 extract하는 프로그램"
   ]
  },
  {
   "cell_type": "code",
   "execution_count": null,
   "metadata": {},
   "outputs": [
    {
     "name": "stderr",
     "output_type": "stream",
     "text": [
      "usage: ipykernel_launcher.py [-h] --json JSON [--domain DOMAIN]\n",
      "                             [--output_dir OUTPUT_DIR]\n",
      "ipykernel_launcher.py: error: the following arguments are required: --json\n"
     ]
    },
    {
     "ename": "SystemExit",
     "evalue": "2",
     "output_type": "error",
     "traceback": [
      "An exception has occurred, use %tb to see the full traceback.\n",
      "\u001b[0;31mSystemExit\u001b[0m\u001b[0;31m:\u001b[0m 2\n"
     ]
    }
   ],
   "source": [
    "import json\n",
    "import os\n",
    "import pandas as pd\n",
    "from collections import defaultdict\n",
    "from tqdm import tqdm\n",
    "\n",
    "def load_json(json_path):\n",
    "    try:\n",
    "        with open(json_path, 'r', encoding='utf-8') as f:\n",
    "            data = json.load(f)\n",
    "        return data\n",
    "    except Exception as e:\n",
    "        print(f\"JSON 파일을 로드하는 중 오류 발생: {json_path}\\n오류 내용: {e}\")\n",
    "        return None\n",
    "\n",
    "def save_json(data, output_path):\n",
    "    try:\n",
    "        with open(output_path, 'w', encoding='utf-8') as f:\n",
    "            json.dump(data, f, indent=4, ensure_ascii=False)\n",
    "        print(f\"JSON 파일이 '{output_path}' 경로에 저장되었습니다.\")\n",
    "    except Exception as e:\n",
    "        print(f\"JSON 파일을 저장하는 중 오류 발생: {output_path}\\n오류 내용: {e}\")\n",
    "\n",
    "def filter_and_split(audio_features, domain='test'):\n",
    "    split_data = defaultdict(list)\n",
    "\n",
    "    for entry in tqdm(audio_features.get('audio_features', []), desc=f\"Filtering for domain '{domain}'\"):\n",
    "        entry_domain = entry.get('domain', '').lower()\n",
    "        if entry_domain != domain.lower():\n",
    "            continue\n",
    "\n",
    "        machine_type = entry.get('machine_type', 'Unknown').strip()\n",
    "        split_data[machine_type].append(entry)\n",
    "\n",
    "    return split_data\n",
    "\n",
    "# 설정\n",
    "input_json_path = 'audio_features_merged.json'  # 실제 파일 경로로 수정하세요\n",
    "domain_to_filter = 'test'\n",
    "output_dir = 'filtered_jsons_test'  # 원하는 출력 디렉토리 이름으로 수정하세요\n",
    "\n",
    "# 처리\n",
    "if not os.path.exists(input_json_path):\n",
    "    print(f\"입력 JSON 파일을 찾을 수 없습니다: {input_json_path}\")\n",
    "else:\n",
    "    audio_features_data = load_json(input_json_path)\n",
    "\n",
    "    if audio_features_data:\n",
    "        split_data = filter_and_split(audio_features_data, domain=domain_to_filter)\n",
    "        os.makedirs(output_dir, exist_ok=True)\n",
    "\n",
    "        for machine_type, entries in split_data.items():\n",
    "            safe_machine_type = ''.join(c if c.isalnum() or c in (' ', '_') else '_' for c in machine_type).replace(' ', '_')\n",
    "            output_json = os.path.join(output_dir, f'audio_features_{domain_to_filter}_{safe_machine_type}.json')\n",
    "            save_json({\"audio_features\": entries}, output_json)\n",
    "\n",
    "        print(f\"모든 JSON 파일이 '{output_dir}' 디렉토리에 저장되었습니다.\")\n"
   ]
  }
 ],
 "metadata": {
  "kernelspec": {
   "display_name": "anomaly",
   "language": "python",
   "name": "python3"
  },
  "language_info": {
   "codemirror_mode": {
    "name": "ipython",
    "version": 3
   },
   "file_extension": ".py",
   "mimetype": "text/x-python",
   "name": "python",
   "nbconvert_exporter": "python",
   "pygments_lexer": "ipython3",
   "version": "3.9.20"
  }
 },
 "nbformat": 4,
 "nbformat_minor": 2
}
