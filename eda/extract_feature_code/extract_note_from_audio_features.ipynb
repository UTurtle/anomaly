{
 "cells": [
  {
   "cell_type": "markdown",
   "metadata": {},
   "source": [
    "# handwrite csv 파일이 필요한 경우 json에서 따로 추출"
   ]
  },
  {
   "cell_type": "code",
   "execution_count": 1,
   "metadata": {},
   "outputs": [
    {
     "name": "stdout",
     "output_type": "stream",
     "text": [
      "CSV 파일이 생성되었습니다: audio_features_notes.csv\n"
     ]
    }
   ],
   "source": [
    "import json\n",
    "import pandas as pd\n",
    "\n",
    "# JSON 파일 경로\n",
    "json_file_path = \"audio_features.json\"  # 실제 JSON 파일 경로로 변경\n",
    "output_csv_path = \"audio_features_notes.csv\"  # 출력 CSV 파일 경로\n",
    "\n",
    "# JSON 파일 읽기\n",
    "with open(json_file_path, 'r', encoding='utf-8') as f:\n",
    "    data = json.load(f)\n",
    "\n",
    "# JSON 데이터에서 file_path와 note 필드만 추출\n",
    "audio_features = data.get(\"audio_features\", [])\n",
    "df = pd.DataFrame(audio_features)[[\"file_path\", \"note\"]]\n",
    "\n",
    "# CSV 파일로 저장\n",
    "df.to_csv(output_csv_path, index=False)\n",
    "\n",
    "print(f\"CSV 파일이 생성되었습니다: {output_csv_path}\")\n"
   ]
  },
  {
   "cell_type": "markdown",
   "metadata": {},
   "source": [
    "# pair data"
   ]
  },
  {
   "cell_type": "code",
   "execution_count": 25,
   "metadata": {},
   "outputs": [
    {
     "name": "stdout",
     "output_type": "stream",
     "text": [
      "페어 데이터가 CSV로 저장되었습니다: audio_pair_notes.csv\n"
     ]
    }
   ],
   "source": [
    "import os\n",
    "import json\n",
    "import pandas as pd\n",
    "\n",
    "# JSON 및 CSV 파일 경로 설정\n",
    "json_file_path = \"audio_features.json\"\n",
    "output_csv_path = \"audio_pair_notes.csv\"\n",
    "\n",
    "def find_matching_normal_file(anomaly_path, normal_paths):\n",
    "    \"\"\"\n",
    "    이상 파일에 대해 매칭되는 정상 파일을 찾는 함수.\n",
    "\n",
    "    Args:\n",
    "        anomaly_path (str): 이상 파일 경로.\n",
    "        normal_paths (list): 정상 파일 경로 목록.\n",
    "\n",
    "    Returns:\n",
    "        str: 매칭된 정상 파일 경로 (없으면 None).\n",
    "    \"\"\"\n",
    "    # 이상 파일 정보 추출\n",
    "    anomaly_dir = os.path.dirname(anomaly_path)\n",
    "    anomaly_filename = os.path.basename(anomaly_path)\n",
    "    anomaly_number = anomaly_filename.split(\"_\")[5]  # 파일 번호 추출\n",
    "    anomaly_source_target = \"source\" if \"source\" in anomaly_filename else \"target\"  # source/target 확인\n",
    "\n",
    "    # 같은 디렉토리 내에서 정상 파일 매칭\n",
    "    for normal_path in normal_paths:\n",
    "        normal_dir = os.path.dirname(normal_path)\n",
    "        normal_filename = os.path.basename(normal_path)\n",
    "        normal_number = normal_filename.split(\"_\")[5]  # 파일 번호 추출\n",
    "        normal_source_target = \"source\" if \"source\" in normal_filename else \"target\"  # source/target 확인\n",
    "\n",
    "        # 같은 디렉토리, 같은 파일 번호, 같은 source/target 조건\n",
    "        if (anomaly_dir == normal_dir and\n",
    "            anomaly_number == normal_number and\n",
    "            anomaly_source_target == normal_source_target):\n",
    "            return normal_path\n",
    "\n",
    "    print(f\"No matching normal file found for: {anomaly_path}\")\n",
    "    return None\n",
    "\n",
    "def create_audio_pair_csv(json_file_path, output_csv_path):\n",
    "    \"\"\"\n",
    "    JSON 데이터를 읽어 이상/정상 페어를 CSV로 저장.\n",
    "\n",
    "    Args:\n",
    "        json_file_path (str): JSON 파일 경로.\n",
    "        output_csv_path (str): 저장할 CSV 파일 경로.\n",
    "    \"\"\"\n",
    "    # JSON 데이터 로드\n",
    "    with open(json_file_path, 'r', encoding='utf-8') as f:\n",
    "        audio_features_data = json.load(f)\n",
    "\n",
    "    # normal, anomaly 파일 분류\n",
    "    normal_files = []\n",
    "    anomaly_files = []\n",
    "    notes = {}\n",
    "\n",
    "    for feature in audio_features_data[\"audio_features\"]:\n",
    "        file_path = feature[\"file_path\"]\n",
    "        note = feature[\"note\"]\n",
    "        notes[file_path] = note\n",
    "\n",
    "        # 경로에 따라 anomaly/normal 분류\n",
    "        if \"anomaly\" in os.path.basename(file_path).lower():\n",
    "            anomaly_files.append(file_path)\n",
    "        else:\n",
    "            normal_files.append(file_path)\n",
    "\n",
    "    # 페어 찾기\n",
    "    pair_data = []\n",
    "    for anomaly_file in anomaly_files:\n",
    "        matching_normal_file = find_matching_normal_file(anomaly_file, normal_files)\n",
    "        if matching_normal_file:\n",
    "            pair_data.append({\n",
    "                \"normal_file_path\": matching_normal_file,\n",
    "                \"anomaly_file_path\": anomaly_file,\n",
    "                \"normal_note\": notes.get(matching_normal_file, \"\"),\n",
    "                \"anomaly_note\": notes.get(anomaly_file, \"\")\n",
    "            })\n",
    "\n",
    "    # 데이터프레임 생성 및 정렬\n",
    "    pair_df = pd.DataFrame(pair_data)\n",
    "    pair_df[\"machine_type\"] = pair_df[\"normal_file_path\"].apply(lambda x: x.split(\"/\")[3])  # machine_type 추출\n",
    "    pair_df[\"file_number\"] = pair_df[\"normal_file_path\"].apply(lambda x: os.path.basename(x).split(\"_\")[5])  # 번호 추출\n",
    "    pair_df.sort_values(by=[\"machine_type\", \"file_number\"], inplace=True)\n",
    "    pair_df.drop(columns=[\"machine_type\", \"file_number\"], inplace=True)\n",
    "\n",
    "    # CSV 저장\n",
    "    pair_df.to_csv(output_csv_path, index=False, encoding=\"utf-8\")\n",
    "    print(f\"페어 데이터가 CSV로 저장되었습니다: {output_csv_path}\")\n",
    "\n",
    "# 실행\n",
    "if __name__ == \"__main__\":\n",
    "    create_audio_pair_csv(json_file_path, output_csv_path)\n"
   ]
  }
 ],
 "metadata": {
  "kernelspec": {
   "display_name": "anomaly",
   "language": "python",
   "name": "python3"
  },
  "language_info": {
   "codemirror_mode": {
    "name": "ipython",
    "version": 3
   },
   "file_extension": ".py",
   "mimetype": "text/x-python",
   "name": "python",
   "nbconvert_exporter": "python",
   "pygments_lexer": "ipython3",
   "version": "3.9.20"
  }
 },
 "nbformat": 4,
 "nbformat_minor": 2
}
