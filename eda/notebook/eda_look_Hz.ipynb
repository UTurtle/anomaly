{
 "cells": [
  {
   "cell_type": "code",
   "execution_count": 4,
   "metadata": {},
   "outputs": [
    {
     "name": "stdout",
     "output_type": "stream",
     "text": [
      "Loaded 16 WAV files from dataset.\n",
      "File: ../unziped/dev/ToyCar/test/section_00_target_test_normal_0028_car_E1_spd_28V_mic_2.wav, Sampling Rate: 16000 Hz\n",
      "File: ../unziped/dev/ToyCar/test/section_00_source_test_normal_0046_car_D2_spd_34V_mic_1.wav, Sampling Rate: 16000 Hz\n",
      "File: ../unziped/dev/ToyCar/test/section_00_source_test_normal_0028_car_C2_spd_34V_mic_1.wav, Sampling Rate: 16000 Hz\n",
      "File: ../unziped/dev/ToyCar/train/section_00_source_train_normal_0287_car_B1_spd_40V_mic_1.wav, Sampling Rate: 16000 Hz\n",
      "File: ../unziped/dev/gearbox/test/section_00_source_test_normal_0050_noAttribute.wav, Sampling Rate: 16000 Hz\n",
      "File: ../unziped/dev/gearbox/train/section_00_source_train_normal_0858_noAttribute.wav, Sampling Rate: 16000 Hz\n",
      "File: ../unziped/dev/valve/test/section_00_source_test_anomaly_0039_v1pat_A_v2pat_none.wav, Sampling Rate: 16000 Hz\n",
      "File: ../unziped/dev/valve/train/section_00_source_train_normal_0239_v1pat_A_v2pat_none.wav, Sampling Rate: 16000 Hz\n",
      "File: ../unziped/dev/bearing/test/section_00_source_test_normal_0018_pro_A_vel_12_loc_C.wav, Sampling Rate: 16000 Hz\n",
      "File: ../unziped/dev/bearing/train/section_00_source_train_normal_0670_pro_B_vel_8_loc_B.wav, Sampling Rate: 16000 Hz\n",
      "File: ../unziped/dev/slider/test/section_00_source_test_normal_0050_noAttribute.wav, Sampling Rate: 16000 Hz\n",
      "File: ../unziped/dev/slider/train/section_00_source_train_normal_0858_noAttribute.wav, Sampling Rate: 16000 Hz\n",
      "File: ../unziped/dev/fan/test/section_00_source_test_normal_0040_n_B.wav, Sampling Rate: 16000 Hz\n",
      "File: ../unziped/dev/fan/train/section_00_source_train_normal_0853_n_B.wav, Sampling Rate: 16000 Hz\n",
      "File: ../unziped/dev/ToyTrain/test/section_00_source_test_normal_0050_noAttribute.wav, Sampling Rate: 16000 Hz\n",
      "File: ../unziped/dev/ToyTrain/train/section_00_source_train_normal_0858_noAttribute.wav, Sampling Rate: 16000 Hz\n"
     ]
    }
   ],
   "source": [
    "import os\n",
    "import librosa\n",
    "import librosa.display\n",
    "import matplotlib.pyplot as plt\n",
    "import numpy as np\n",
    "from IPython.display import Audio, display\n",
    "\n",
    "def load_wav_files_from_dataset(dataset_dir, file_extension=\".wav\", max_files=None):\n",
    "    \"\"\"\n",
    "    데이터셋 디렉토리에서 최대 max_files 개수만큼 WAV 파일을 불러옵니다.\n",
    "\n",
    "    Args:\n",
    "        dataset_dir (str): 데이터셋 디렉토리 경로.\n",
    "        file_extension (str): 파일 확장자 (기본값: \".wav\").\n",
    "        max_files (int, optional): 불러올 최대 파일 개수. None이면 제한 없음.\n",
    "    \n",
    "    Returns:\n",
    "        list: WAV 파일 경로 리스트.\n",
    "    \"\"\"\n",
    "    wav_files = []\n",
    "    for root, _, files in os.walk(dataset_dir):\n",
    "        for file in files:\n",
    "            if file.lower().endswith(file_extension):\n",
    "                wav_files.append(os.path.join(root, file))\n",
    "                # 최대 파일 개수에 도달하면 종료\n",
    "                if max_files and len(wav_files) >= max_files:\n",
    "                    break\n",
    "    return wav_files\n",
    "\n",
    "def get_sampling_rate(file_path):\n",
    "    \"\"\"\n",
    "    주어진 오디오 파일의 샘플링 레이트를 반환합니다.\n",
    "\n",
    "    Args:\n",
    "        file_path (str): 오디오 파일 경로.\n",
    "    \n",
    "    Returns:\n",
    "        int: 샘플링 레이트.\n",
    "    \"\"\"\n",
    "    _, sr = librosa.load(file_path, sr=None)\n",
    "    return sr\n",
    "\n",
    "# Main execution\n",
    "if __name__ == \"__main__\":\n",
    "    DATASET_DIR = \"../unziped/dev\"  # 데이터셋 디렉토리 경로\n",
    "    MAX_FILES =     3  # 분석할 최대 파일 수\n",
    "    \n",
    "    # WAV 파일 목록 가져오기\n",
    "    wav_files = load_wav_files_from_dataset(DATASET_DIR, max_files=MAX_FILES)\n",
    "    print(f\"Loaded {len(wav_files)} WAV files from dataset.\")\n",
    "\n",
    "    # 각 파일의 샘플링 레이트 출력\n",
    "    for wav_file in wav_files:\n",
    "        sampling_rate = get_sampling_rate(wav_file)\n",
    "        print(f\"File: {wav_file}, Sampling Rate: {sampling_rate} Hz\")\n"
   ]
  }
 ],
 "metadata": {
  "kernelspec": {
   "display_name": "anomaly",
   "language": "python",
   "name": "python3"
  },
  "language_info": {
   "codemirror_mode": {
    "name": "ipython",
    "version": 3
   },
   "file_extension": ".py",
   "mimetype": "text/x-python",
   "name": "python",
   "nbconvert_exporter": "python",
   "pygments_lexer": "ipython3",
   "version": "3.9.20"
  }
 },
 "nbformat": 4,
 "nbformat_minor": 2
}
